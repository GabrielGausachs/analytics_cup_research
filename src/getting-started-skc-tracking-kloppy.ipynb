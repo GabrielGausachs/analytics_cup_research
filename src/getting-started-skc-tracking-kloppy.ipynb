{
 "cells": [
  {
   "cell_type": "markdown",
   "id": "e1fa619e",
   "metadata": {},
   "source": [
    "## Getting Started "
   ]
  },
  {
   "cell_type": "markdown",
   "id": "370110fa",
   "metadata": {},
   "source": [
    "[Kloppy](https://kloppy.pysport.org/) by [PySport](https://pysport.org/) is _the_ industry standard open-source fooball data standardization package. Kloppy simplifies football data processing by offering a single place to [**load**](https://kloppy.pysport.org/user-guide/loading-data/skillcorner/), [**filter**](https://kloppy.pysport.org/user-guide/getting-started/#filtering-data), [**transform**](https://kloppy.pysport.org/user-guide/transformations/coordinates/) and [**export**](https://kloppy.pysport.org/user-guide/exporting-data/) your football data in a standardized way. \n",
    "\n",
    "We can use Kloppy to directly load data from GitHub (see below)."
   ]
  },
  {
   "cell_type": "markdown",
   "id": "5adf3751",
   "metadata": {},
   "source": [
    "---\n",
    "\n",
    "### Before we get started:\n",
    "- Download Python3.11+ if you don't have it already.\n",
    "- Make a virtual environment to store and install all the Python packages related to this project.\n",
    "- Activate the virtual environment (select it as a Kernel for this Jupyter Notebook)\n",
    "- ⚠️ [Install Kloppy](https://kloppy.pysport.org/user-guide/installation/) (`pip install kloppy>=3.18.0`) into the virtual environment\n",
    "\n",
    "---\n",
    "\n",
    "### Kloppy\n",
    "\n",
    "Using Kloppy we can now easily load the tracking data directly from GitHub using the URL to the raw files.\n",
    "\n",
    "\n"
   ]
  },
  {
   "cell_type": "code",
   "execution_count": 36,
   "id": "eb91b6d1",
   "metadata": {
    "ExecuteTime": {
     "end_time": "2025-10-07T16:56:15.604341Z",
     "start_time": "2025-10-07T16:56:14.616507Z"
    }
   },
   "outputs": [
    {
     "name": "stderr",
     "output_type": "stream",
     "text": [
      "c:\\Users\\g4a4b\\anaconda3\\envs\\hack_env\\Lib\\site-packages\\kloppy\\infra\\serializers\\tracking\\skillcorner.py:580: UserWarning: Could not determine orientation of dataset, defaulting to NOT_SET\n",
      "  warnings.warn(\n"
     ]
    }
   ],
   "source": [
    "from kloppy import skillcorner\n",
    "\n",
    "match_id = 1886347\n",
    "\n",
    "dataset = skillcorner.load_open_data(\n",
    "    match_id=match_id,\n",
    "    # Optional Parameters\n",
    "    coordinates=\"skillcorner\",  # or specify a different coordinate system\n",
    "    sample_rate=10,  # or specify a different sampling rate\n",
    ")"
   ]
  },
  {
   "cell_type": "code",
   "execution_count": 62,
   "id": "4a6a7935",
   "metadata": {},
   "outputs": [],
   "source": [
    "from kloppy import skillcorner\n",
    "import os\n",
    "import json\n",
    "\n",
    "matches_json_path = os.path.join(os.getcwd(), \"data/matches.json\")\n",
    "\n",
    "with open(matches_json_path, \"r\") as f:\n",
    "    matches_json = json.load(f)\n",
    "\n",
    "match_id = matches_json[0][\"id\"]\n",
    "\n",
    "# # Construct the raw GitHub URL\n",
    "tracking_data_github_url=f'https://media.githubusercontent.com/media/SkillCorner/opendata/741bdb798b0c1835057e3fa77244c1571a00e4aa/data/matches/{match_id}/{match_id}_tracking_extrapolated.jsonl'\n",
    "url = f\"https://raw.githubusercontent.com/SkillCorner/opendata/master/data/matches/{match_id}/{match_id}_dynamic_events.csv\"\n",
    "dataset = skillcorner.load(\n",
    "    meta_data = f'https://raw.githubusercontent.com/SkillCorner/opendata/741bdb798b0c1835057e3fa77244c1571a00e4aa/data/matches/{match_id}/{match_id}_match.json',\n",
    "    raw_data=tracking_data_github_url,\n",
    "    # Optional arguments,\n",
    "    coordinates=\"skillcorner\",\n",
    "    include_empty_frames=True\n",
    ")"
   ]
  },
  {
   "cell_type": "code",
   "execution_count": 63,
   "id": "4df8a669",
   "metadata": {},
   "outputs": [
    {
     "name": "stdout",
     "output_type": "stream",
     "text": [
      "       period_id              timestamp  frame_id ball_state  \\\n",
      "0              1 0 days 00:00:08.800000      2598      alive   \n",
      "1              1 0 days 00:00:08.900000      2599      alive   \n",
      "2              1        0 days 00:00:09      2600      alive   \n",
      "3              1 0 days 00:00:09.100000      2601      alive   \n",
      "4              1 0 days 00:00:09.200000      2602      alive   \n",
      "...          ...                    ...       ...        ...   \n",
      "28883          2 0 days 00:51:11.700000     70387      alive   \n",
      "28884          2 0 days 00:51:11.800000     70388      alive   \n",
      "28885          2 0 days 00:51:11.900000     70389      alive   \n",
      "28886          2        0 days 00:51:12     70390      alive   \n",
      "28887          2 0 days 00:51:12.100000     70391      alive   \n",
      "\n",
      "       ball_owning_team_id  ball_x  ball_y  ball_z ball_speed  51678_x  ...  \\\n",
      "0                      868   19.88   20.21    0.91       None   -36.20  ...   \n",
      "1                      868   20.45   20.34    0.58       None   -36.16  ...   \n",
      "2                      868   20.79   20.47    0.43       None   -36.11  ...   \n",
      "3                      868   20.94   20.75    0.40       None   -36.06  ...   \n",
      "4                      868   21.00   21.19    0.40       None   -36.01  ...   \n",
      "...                    ...     ...     ...     ...        ...      ...  ...   \n",
      "28883                 4177  -10.29   32.89    0.20       None    40.05  ...   \n",
      "28884                 4177  -10.29   33.09    0.20       None    40.03  ...   \n",
      "28885                 4177  -10.29   33.33    0.20       None    40.01  ...   \n",
      "28886                 4177  -10.29   33.60    0.20       None    39.99  ...   \n",
      "28887                 4177  -10.31   33.87    0.19       None    39.96  ...   \n",
      "\n",
      "       50951_d 50951_s 51714_x  51714_y  51714_d 51714_s 795521_x  795521_y  \\\n",
      "0         None    None     NaN      NaN     None    None      NaN       NaN   \n",
      "1         None    None     NaN      NaN     None    None      NaN       NaN   \n",
      "2         None    None     NaN      NaN     None    None      NaN       NaN   \n",
      "3         None    None     NaN      NaN     None    None      NaN       NaN   \n",
      "4         None    None     NaN      NaN     None    None      NaN       NaN   \n",
      "...        ...     ...     ...      ...      ...     ...      ...       ...   \n",
      "28883     None    None    0.44    27.86     None    None     8.13     32.27   \n",
      "28884     None    None    0.54    27.82     None    None     8.16     32.26   \n",
      "28885     None    None    0.65    27.78     None    None     8.19     32.25   \n",
      "28886     None    None    0.75    27.74     None    None     8.21     32.23   \n",
      "28887     None    None    0.86    27.70     None    None     8.23     32.22   \n",
      "\n",
      "       795521_d 795521_s  \n",
      "0          None     None  \n",
      "1          None     None  \n",
      "2          None     None  \n",
      "3          None     None  \n",
      "4          None     None  \n",
      "...         ...      ...  \n",
      "28883      None     None  \n",
      "28884      None     None  \n",
      "28885      None     None  \n",
      "28886      None     None  \n",
      "28887      None     None  \n",
      "\n",
      "[28888 rows x 137 columns]\n",
      "Metadata(periods=[Period(id=1, start_timestamp=datetime.timedelta(seconds=251), end_timestamp=datetime.timedelta(seconds=3021), prev_period=None, next_period=Period(id=2, start_timestamp=datetime.timedelta(seconds=3967), end_timestamp=datetime.timedelta(seconds=7042), prev_period=..., next_period=None)), Period(id=2, start_timestamp=datetime.timedelta(seconds=3967), end_timestamp=datetime.timedelta(seconds=7042), prev_period=Period(id=1, start_timestamp=datetime.timedelta(seconds=251), end_timestamp=datetime.timedelta(seconds=3021), prev_period=None, next_period=...), next_period=None)], teams=[Team(team_id=868, name='Melbourne Victory Football Club', ground=home, starting_formation=None, formations=<TimeContainer>, players=[<Player name='Alexander Badolato' player_id='795521'>, <Player name='Nishan Velupillay' player_id='50955'>, <Player name='Zinédine Machach' player_id='11117'>, <Player name='Reno Piscopo' player_id='51714'>, <Player name='Clarismario Santos Rodrigues' player_id='745320'>, <Player name='Bruno Fornaroli Mezza' player_id='50979'>, <Player name='Joshua Rawlins' player_id='50977'>, <Player name='Luka Didulica' player_id='1008911'>, <Player name='Christian Siciliano' player_id='795504'>, <Player name='Ryan Graham Pun Teague' player_id='157294'>, <Player name='Lachlan Jackson' player_id='51685'>, <Player name='Kasey Bos' player_id='811820'>, <Player name='Jordi Valadon' player_id='159688'>, <Player name='Joshua Inserra' player_id='800322'>, <Player name='Jack Duncan' player_id='51678'>, <Player name='Nikolaos Vergos' player_id='29075'>, <Player name='Daniel Arzani' player_id='11885'>, <Player name='Brendan Hamill' player_id='51013'>]), Team(team_id=4177, name='Auckland FC', ground=away, starting_formation=None, formations=<TimeContainer>, players=[<Player name='Liam  Gillion' player_id='965685'>, <Player name='Tommy Smith' player_id='31147'>, <Player name='Luis Felipe Gallegos Leiva' player_id='23418'>, <Player name='Jake Brimmer' player_id='50951'>, <Player name='Francis De Vries' player_id='133498'>, <Player name='Callan Elliot' player_id='51713'>, <Player name='Logan Rogerson' player_id='133501'>, <Player name='Marlee Francois' player_id='582974'>, <Player name='Neyder Stiven Moreno Betancur' player_id='43829'>, <Player name='Jesse Randall' player_id='624628'>, <Player name='Michael Woud' player_id='14355'>, <Player name='Cameron Drew Howieson' player_id='133495'>, <Player name='Nando Pijnaker' player_id='33697'>, <Player name='Louis Verstraete' player_id='14736'>, <Player name='Hiroki Sakai' player_id='4322'>, <Player name='Guillermo Luis May Bartesaghi' player_id='38673'>, <Player name='Daniel Hall' player_id='51667'>, <Player name='Alex Noah Paulsen' player_id='285188'>])], coordinate_system=<kloppy.domain.models.common.SkillCornerCoordinateSystem object at 0x0000018725F79750>, pitch_dimensions=MetricPitchDimensions(x_dim=Dimension(min=-52.5, max=52.5), y_dim=Dimension(min=-34.0, max=34.0), standardized=False, unit=<Unit.METERS: 'm'>, goal_width=7.32, goal_height=2.44, six_yard_width=18.32, six_yard_length=5.5, penalty_area_width=40.32, penalty_area_length=16.5, circle_radius=9.15, corner_radius=1, penalty_spot_distance=11, penalty_arc_radius=9.15, pitch_length=105, pitch_width=68), orientation=home-away, flags=<DatasetFlag.BALL_OWNING_TEAM|BALL_STATE: 3>, provider=<Provider.SKILLCORNER: 'skillcorner'>, score=Score(home=0, away=1), frame_rate=10, date=datetime.datetime(2025, 5, 17, 9, 35, tzinfo=datetime.timezone.utc), game_week=None, game_id='2017461', home_coach=None, away_coach=None, officials=[], attributes={})\n",
      "10\n"
     ]
    }
   ],
   "source": [
    "print(dataset.to_df(engine=\"pandas\"))\n",
    "print(dataset.metadata)\n",
    "print(dataset.metadata.frame_rate)"
   ]
  },
  {
   "cell_type": "markdown",
   "id": "7cf90dc4",
   "metadata": {},
   "source": [
    "### Basic Kloppy Operations\n",
    "\n",
    "Kloppy has many built in fuctionalities, below is a basic example to:\n",
    "- Transform the coordinate system such that the home team attack from left to right both periods\n",
    "- Filter out only the first half\n",
    "- Output to [Polars](https://pola.rs/) dataframe. You can also output to `\"pandas\"`"
   ]
  },
  {
   "cell_type": "code",
   "execution_count": 53,
   "id": "50585a47",
   "metadata": {
    "ExecuteTime": {
     "end_time": "2025-10-07T16:59:37.341269Z",
     "start_time": "2025-10-07T16:59:37.278814Z"
    }
   },
   "outputs": [],
   "source": [
    "df = (\n",
    "    dataset.transform(\n",
    "        to_orientation=\"STATIC_HOME_AWAY\"\n",
    "    )  # Now, all attacks happen from left to right\n",
    "    .to_df(\n",
    "        engine=\"pandas\"\n",
    "    )  # Convert to a Pandas DataFrame\n",
    ")"
   ]
  },
  {
   "cell_type": "code",
   "execution_count": 54,
   "id": "d8a808a7",
   "metadata": {},
   "outputs": [
    {
     "name": "stdout",
     "output_type": "stream",
     "text": [
      "(28888, 137)\n",
      "Index(['period_id', 'timestamp', 'frame_id', 'ball_state',\n",
      "       'ball_owning_team_id', 'ball_x', 'ball_y', 'ball_z', 'ball_speed',\n",
      "       '51678_x',\n",
      "       ...\n",
      "       '50951_d', '50951_s', '51714_x', '51714_y', '51714_d', '51714_s',\n",
      "       '795521_x', '795521_y', '795521_d', '795521_s'],\n",
      "      dtype='object', length=137)\n"
     ]
    }
   ],
   "source": [
    "print(df.shape)\n",
    "print(df.columns)"
   ]
  },
  {
   "cell_type": "markdown",
   "id": "c69b6bc1",
   "metadata": {},
   "source": [
    "---\n",
    "\n",
    "### Metadata\n",
    "\n",
    "Kloppy also stores all relevant [**Metadata**](https://kloppy.pysport.org/user-guide/concepts/metadata/) which you can use to easily obtain player names, jersey numbers, playing positions etc."
   ]
  },
  {
   "cell_type": "code",
   "execution_count": 69,
   "id": "3a25af57",
   "metadata": {},
   "outputs": [
    {
     "name": "stdout",
     "output_type": "stream",
     "text": [
      "[Period(id=1, start_timestamp=datetime.timedelta(seconds=251), end_timestamp=datetime.timedelta(seconds=3021), prev_period=None, next_period=Period(id=2, start_timestamp=datetime.timedelta(seconds=3967), end_timestamp=datetime.timedelta(seconds=7042), prev_period=..., next_period=None)), Period(id=2, start_timestamp=datetime.timedelta(seconds=3967), end_timestamp=datetime.timedelta(seconds=7042), prev_period=Period(id=1, start_timestamp=datetime.timedelta(seconds=251), end_timestamp=datetime.timedelta(seconds=3021), prev_period=None, next_period=...), next_period=None)]\n"
     ]
    }
   ],
   "source": [
    "print(dataset.metadata.periods)"
   ]
  },
  {
   "cell_type": "code",
   "execution_count": 8,
   "id": "defa8d83",
   "metadata": {
    "ExecuteTime": {
     "end_time": "2025-10-07T16:56:41.901750Z",
     "start_time": "2025-10-07T16:56:41.898156Z"
    }
   },
   "outputs": [
    {
     "name": "stdout",
     "output_type": "stream",
     "text": [
      "10 - Guillermo Luis May Bartesaghi - Striker\n",
      "17 - Callan Elliot - Unknown\n",
      "22 - Jake Brimmer - Striker\n",
      "15 - Francis De Vries - Unknown\n",
      "4 - Nando Pijnaker - Left Center Back\n",
      "23 - Daniel Hall - Right Center Back\n",
      "6 - Louis Verstraete - Defensive Midfield\n",
      "14 - Liam  Gillion - Left Wing\n",
      "25 - Neyder Stiven Moreno Betancur - Right Wing\n",
      "5 - Tommy Smith - Center Back\n",
      "9 - Max Mata - Striker\n",
      "27 - Logan Rogerson - Right Wing\n",
      "28 - Luis Felipe Gallegos Leiva - Attacking Midfield\n",
      "3 - Scott Galloway - Unknown\n",
      "1 - Michael Woud - Unknown\n",
      "8 - Luis Toomey - Unknown\n",
      "7 - Cameron Drew Howieson - Unknown\n",
      "12 - Alex Noah Paulsen - Unknown\n"
     ]
    }
   ],
   "source": [
    "home_team, away_team = dataset.metadata.teams\n",
    "\n",
    "for player in home_team.players:\n",
    "    print(f\"{player.jersey_no} - {player.name} - {player.starting_position}\")"
   ]
  },
  {
   "cell_type": "markdown",
   "id": "71805006",
   "metadata": {},
   "source": [
    "---\n",
    "\n",
    "### Basic Kloppy Functionalities\n",
    "\n",
    "Below is a non-exhaustive list of other Kloppy functionalities.\n",
    "\n",
    "- [TrackingDataset](https://kloppy.pysport.org/user-guide/concepts/tracking-data/)\n",
    "- [Metadata (players, team names etc.)](https://kloppy.pysport.org/user-guide/concepts/metadata/)\n",
    "- [Coordinate Systems](https://kloppy.pysport.org/user-guide/concepts/coordinates/#built-in-coordinate-systems)\n",
    "- [Transformations](https://kloppy.pysport.org/user-guide/transformations/coordinates/)\n",
    "- [Filter](https://kloppy.pysport.org/user-guide/getting-started/#filtering-data)\n",
    "- [Exporting to pandas / polars DataFrames](https://kloppy.pysport.org/user-guide/exporting-data/dataframes/)"
   ]
  },
  {
   "cell_type": "markdown",
   "id": "1e268c67",
   "metadata": {},
   "source": [
    "## Existing Open Source Projects\n",
    "Below is a non-exhaustive list of publicly available **open source** football analytics tools. Feel free to use these as inspiration, build on-top of these tools or develop them further. We advise Analytics Cup participants to not replicate existing work, but rather use it to build new open source tools instead.\n",
    "\n",
    "**Plotting**\n",
    "\n",
    "- [`mplsoccer`](https://mplsoccer.readthedocs.io/en/latest/) and `matplotlib` to plot some different configurations of tracking data.\n",
    "- [`soccer-d3`](https://github.com/probberechts/d3-soccer)\n",
    "- And check out [Kloppy's Plotting Examples](https://kloppy.pysport.org/user-guide/getting-started/#exec-51--__tabbed_1_2)\n",
    "\n",
    "**Resources for Positional Tracking Data**\n",
    "- [floodlight](https://floodlight.readthedocs.io/en/latest/)\n",
    "- [databallpy](https://databallpy.readthedocs.io/en/latest/?badge=latest)\n",
    "- [Hyunsung Kim @ KAIST](https://github.com/hyunsungkim-ds)\n",
    "- [Friends of Tracking](https://github.com/Friends-of-Tracking-Data-FoTD)\n",
    "- [unravelsports](https://github.com/UnravelSports/UnravelSports)\n",
    "\n",
    "**Other Football Analytics Resources**\n",
    "- [socceraction](https://socceraction.readthedocs.io/en/latest/)\n",
    "- [Footballdata](https://Footballdata.readthedocs.io/en/latest/)\n",
    "- [ETSY](https://github.com/ML-KULeuven/ETSY) \n",
    "- [soccer-xg](https://github.com/ML-KULeuven/soccer_xg)\n",
    "- [OpenSTARLab](https://openstarlab.readthedocs.io/en/latest/)\n",
    "- [Soccer Analytics Handbook](https://github.com/devinpleuler/analytics-handbook)\n",
    "- [penaltyblog](https://pypi.org/project/penaltyblog/)\n"
   ]
  },
  {
   "cell_type": "markdown",
   "id": "8a30f471",
   "metadata": {},
   "source": []
  }
 ],
 "metadata": {
  "kernelspec": {
   "display_name": "hack_env",
   "language": "python",
   "name": "python3"
  },
  "language_info": {
   "codemirror_mode": {
    "name": "ipython",
    "version": 3
   },
   "file_extension": ".py",
   "mimetype": "text/x-python",
   "name": "python",
   "nbconvert_exporter": "python",
   "pygments_lexer": "ipython3",
   "version": "3.11.13"
  }
 },
 "nbformat": 4,
 "nbformat_minor": 5
}
