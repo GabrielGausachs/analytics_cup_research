{
 "cells": [
  {
   "cell_type": "code",
   "execution_count": 24,
   "id": "ad8759c4",
   "metadata": {},
   "outputs": [],
   "source": [
    "import requests\n",
    "import pandas as pd\n",
    "import json\n",
    "import numpy as np\n",
    "import os\n",
    "from datetime import timedelta\n",
    "from kloppy import skillcorner\n",
    "import matplotlib.pyplot as plt\n",
    "import seaborn as sns\n",
    "from matplotlib.ticker import PercentFormatter\n",
    "\n",
    "\n",
    "# Setup pitch and plot\n",
    "from mplsoccer import Pitch\n",
    "#from mplsoccer.pitch import Pitch ,VerticalPitch\n",
    "\n",
    "# username = \"XXX\"\n",
    "# password = \"XXX\"\n",
    "\n",
    "\n",
    "# from skillcorner.client import SkillcornerClient\n",
    "# client=SkillcornerClient(username=username,password=password)\n",
    "\n",
    "def time_to_seconds(time_str):\n",
    "    if time_str is None:\n",
    "        return 90 * 60  # 120 minutes = 7200 seconds\n",
    "    h, m, s = map(int, time_str.split(':'))\n",
    "    return h * 3600 + m * 60 + s"
   ]
  },
  {
   "cell_type": "code",
   "execution_count": 2,
   "id": "df57903d",
   "metadata": {},
   "outputs": [],
   "source": [
    "def load_matches(matches_json_path):\n",
    "\n",
    "    with open(matches_json_path, \"r\") as f:\n",
    "        matches_json = json.load(f)\n",
    "\n",
    "    match_ids = [match[\"id\"] for match in matches_json]\n",
    "\n",
    "    all_tracking = []\n",
    "\n",
    "    for match_id in match_ids:\n",
    "        tracking_data_github_url = f'https://media.githubusercontent.com/media/SkillCorner/opendata/741bdb798b0c1835057e3fa77244c1571a00e4aa/data/matches/{match_id}/{match_id}_tracking_extrapolated.jsonl'\n",
    "        \n",
    "        dataset = skillcorner.load(\n",
    "            meta_data=f'https://raw.githubusercontent.com/SkillCorner/opendata/741bdb798b0c1835057e3fa77244c1571a00e4aa/data/matches/{match_id}/{match_id}_match.json',\n",
    "            raw_data=tracking_data_github_url,\n",
    "            # Optional arguments,\n",
    "            coordinates=\"skillcorner\",\n",
    "            include_empty_frames=False)\n",
    "\n",
    "        all_tracking.append(dataset)\n",
    "\n",
    "    all_de_dfs = []\n",
    "\n",
    "    for match_id in match_ids:\n",
    "        url = f\"https://raw.githubusercontent.com/SkillCorner/opendata/master/data/matches/{match_id}/{match_id}_dynamic_events.csv\"\n",
    "        try:\n",
    "            de_match = pd.read_csv(url)\n",
    "            all_de_dfs.append(de_match)\n",
    "        except Exception as e:\n",
    "            print(f\"Failed to load dynamic events for match {match_id}: {e}\")\n",
    "\n",
    "    de_all_matches = pd.concat(all_de_dfs, ignore_index=True)\n",
    "    \n",
    "    return all_tracking, de_all_matches\n",
    "        "
   ]
  },
  {
   "cell_type": "code",
   "execution_count": 4,
   "id": "f31605e1",
   "metadata": {},
   "outputs": [
    {
     "name": "stderr",
     "output_type": "stream",
     "text": [
      "C:\\Users\\g4a4b\\AppData\\Local\\Temp\\ipykernel_2484\\822448290.py:27: DtypeWarning: Columns (75,77,184,264) have mixed types. Specify dtype option on import or set low_memory=False.\n",
      "  de_match = pd.read_csv(url)\n",
      "C:\\Users\\g4a4b\\AppData\\Local\\Temp\\ipykernel_2484\\822448290.py:27: DtypeWarning: Columns (276) have mixed types. Specify dtype option on import or set low_memory=False.\n",
      "  de_match = pd.read_csv(url)\n"
     ]
    }
   ],
   "source": [
    "# Load matches\n",
    "\n",
    "matches_json_path = os.path.join(os.path.dirname(os.getcwd()), \"data/matches.json\")\n",
    "all_tracking, de_all_matches = load_matches(matches_json_path)"
   ]
  },
  {
   "cell_type": "code",
   "execution_count": 26,
   "id": "0b6c62e7",
   "metadata": {},
   "outputs": [],
   "source": [
    "# ------------- OFF-BALL RUN EVENTS ANALYSIS ---------------------\n",
    "\n",
    "def untargeted_percentage(de_all_matches, all_tracking):\n",
    "\n",
    "    # Get off-ball events\n",
    "    off_ball_events = de_all_matches[de_all_matches[\"event_type_id\"] == 1]\n",
    "    print(f\"Number of off-ball events: {off_ball_events.shape[0]}\")\n",
    "\n",
    "    # Get the total minutes played per match and sum across all matches\n",
    "    total_duration = timedelta(0)\n",
    "    for dataset in all_tracking:\n",
    "        for period in dataset.metadata.periods:\n",
    "            period_duration = period.end_timestamp - period.start_timestamp\n",
    "            total_duration += period_duration\n",
    "    print(f\"Total played: {total_duration.total_seconds()/60:.1f} minutes\")\n",
    "    total_minutes = total_duration.total_seconds() / 60\n",
    "\n",
    "    # Group by event_subtype\n",
    "    off_ball_events_grouped = off_ball_events.groupby(\"event_subtype\")\n",
    "\n",
    "    # Calculate stats per each subtype\n",
    "    off_ball_event_summary = []\n",
    "    for subtype, group in off_ball_events_grouped:\n",
    "        targeted_count = group[\"targeted\"].sum()\n",
    "        total_count = group.shape[0]\n",
    "        untargeted_count = total_count - targeted_count\n",
    "        # per90 scaled values\n",
    "        total_per90 = (total_count * (90 / total_minutes))\n",
    "        untargeted_per90 = (untargeted_count * (90 / total_minutes))\n",
    "        untargeted_proportion = untargeted_count / total_count if total_count > 0 else 0\n",
    "        print(f\"Subtype: {subtype} Total: {total_count} ({total_per90:.2f}/90min), Untargeted: {untargeted_count} ({untargeted_per90:.2f}/90min, {untargeted_proportion:.2%})\")\n",
    "        # Save these values for later use\n",
    "        off_ball_event_summary.append({\n",
    "            \"subtype\": subtype,\n",
    "            \"total\": total_count,\n",
    "            \"total_per90\": total_per90,\n",
    "            \"untargeted\": untargeted_count,\n",
    "            \"untargeted_per90\": untargeted_per90,\n",
    "            \"untargeted_proportion\": untargeted_proportion\n",
    "        })\n",
    "\n",
    "    # Convert to DataFrame for easier handling\n",
    "    off_ball_event_stats_df = pd.DataFrame(off_ball_event_summary)\n",
    "\n",
    "    # Get the overall stats too\n",
    "    overall_total_count = off_ball_events.shape[0]\n",
    "    overall_targeted_count = off_ball_events[\"targeted\"].sum()\n",
    "    overall_untargeted_count = overall_total_count - overall_targeted_count\n",
    "    totalper90 = (overall_total_count * (90 / total_minutes))\n",
    "    untargetedper90 = (overall_untargeted_count * (90 / total_minutes))\n",
    "    untargetedproportion = overall_untargeted_count / overall_total_count if overall_total_count > 0 else 0\n",
    "    print(f\"Overall Off-Ball Events - Total: {overall_total_count} ({totalper90:.2f}/90min), Untargeted: {overall_untargeted_count} ({untargetedper90:.2f}/90min, {untargetedproportion:.2%})\")\n",
    "\n",
    "    return off_ball_event_stats_df"
   ]
  },
  {
   "cell_type": "code",
   "execution_count": 28,
   "id": "e346998f",
   "metadata": {},
   "outputs": [
    {
     "name": "stdout",
     "output_type": "stream",
     "text": [
      "Number of off-ball events: 5002\n",
      "Total played: 985.6 minutes\n",
      "Subtype: behind Total: 363 (33.15/90min), Untargeted: 208 (18.99/90min, 57.30%)\n",
      "Subtype: coming_short Total: 701 (64.01/90min), Untargeted: 457 (41.73/90min, 65.19%)\n",
      "Subtype: cross_receiver Total: 423 (38.63/90min), Untargeted: 293 (26.76/90min, 69.27%)\n",
      "Subtype: dropping_off Total: 631 (57.62/90min), Untargeted: 386 (35.25/90min, 61.17%)\n",
      "Subtype: overlap Total: 153 (13.97/90min), Untargeted: 93 (8.49/90min, 60.78%)\n",
      "Subtype: pulling_half_space Total: 148 (13.52/90min), Untargeted: 113 (10.32/90min, 76.35%)\n",
      "Subtype: pulling_wide Total: 344 (31.41/90min), Untargeted: 190 (17.35/90min, 55.23%)\n",
      "Subtype: run_ahead_of_the_ball Total: 1378 (125.84/90min), Untargeted: 903 (82.46/90min, 65.53%)\n",
      "Subtype: support Total: 751 (68.58/90min), Untargeted: 525 (47.94/90min, 69.91%)\n",
      "Subtype: underlap Total: 110 (10.05/90min), Untargeted: 78 (7.12/90min, 70.91%)\n",
      "Overall Off-Ball Events - Total: 5002 (456.78/90min), Untargeted: 3246 (296.42/90min, 64.89%)\n"
     ]
    }
   ],
   "source": [
    "# Calculate percentage of untargeted off-ball runs by subtype\n",
    "\n",
    "untargeted_percentage_df = untargeted_percentage(de_all_matches, all_tracking)"
   ]
  },
  {
   "cell_type": "code",
   "execution_count": 29,
   "id": "b0b4a2ee",
   "metadata": {},
   "outputs": [],
   "source": [
    "def plot_untargeted_percentage(untargeted_percentage_df):\n",
    "    # Copy and sort\n",
    "    df_plot = untargeted_percentage_df.copy()\n",
    "    df_plot = df_plot.sort_values(\"untargeted_proportion\", ascending=True)\n",
    "\n",
    "    # Optional: rename subtypes\n",
    "    subtype_names_map = {\n",
    "        \"behind\": \"Behind\",\n",
    "        \"coming_short\": \"Coming Short\",\n",
    "        \"cross_receiver\": \"Cross Receiver\",\n",
    "        \"dropping_off\": \"Dropping Off\",\n",
    "        \"overlap\": \"Overlap\",\n",
    "        \"pulling_half_space\": \"Pulling Half-Space\",\n",
    "        \"pulling_wide\": \"Pulling Wide\",\n",
    "        \"run_ahead_of_the_ball\": \"Run Ahead\",\n",
    "        \"support\": \"Support\",\n",
    "        \"underlap\": \"Underlap\"\n",
    "    }\n",
    "    df_plot[\"subtype_display\"] = df_plot[\"subtype\"].map(subtype_names_map)\n",
    "\n",
    "    plt.figure(figsize=(10, 6))\n",
    "\n",
    "    # Draw bars with contour (edge)\n",
    "    plt.barh(\n",
    "        df_plot[\"subtype_display\"],\n",
    "        df_plot[\"untargeted_proportion\"],\n",
    "        color=\"#00ff1e\",\n",
    "        edgecolor=\"black\",   # contour around each bar\n",
    "        linewidth=1.5\n",
    "    )\n",
    "\n",
    "    # Title and axis labels\n",
    "    plt.title(\"Share of Untargeted Runs by Run Type\", fontsize=14, fontweight='bold', fontname='Arial')\n",
    "    plt.xlabel(\"% untargeted\", fontsize=12, fontweight='bold', fontname='Arial')\n",
    "    plt.ylabel(\"Subtype\", fontsize=12, fontweight='bold', fontname='Arial')\n",
    "\n",
    "    # Format x-axis as percentages\n",
    "    plt.gca().xaxis.set_major_formatter(PercentFormatter(xmax=1))\n",
    "    plt.xticks([0, 0.2, 0.4, 0.6, 0.8, 1.0])\n",
    "\n",
    "    # Remove all spines except left and bottom\n",
    "    ax = plt.gca()\n",
    "    ax.spines['top'].set_visible(False)\n",
    "    ax.spines['right'].set_visible(False)\n",
    "    ax.spines['left'].set_visible(True)\n",
    "    ax.spines['bottom'].set_visible(True)\n",
    "\n",
    "    # Remove grid\n",
    "    plt.grid(False)\n",
    "\n",
    "    # Y-axis tick labels\n",
    "    plt.yticks(fontsize=12, fontweight='normal', fontname='Arial')\n",
    "\n",
    "    plt.xlim(0, 1.0)\n",
    "    plt.tight_layout()\n",
    "    plt.show()"
   ]
  },
  {
   "cell_type": "code",
   "execution_count": 30,
   "id": "3208b193",
   "metadata": {},
   "outputs": [
    {
     "data": {
      "image/png": "[encoded data removed]",
      "text/plain": [
       "<Figure size 1000x600 with 1 Axes>"
      ]
     },
     "metadata": {},
     "output_type": "display_data"
    }
   ],
   "source": [
    "plot_untargeted_percentage(untargeted_percentage_df)"
   ]
  },
  {
   "cell_type": "code",
   "execution_count": null,
   "id": "e253da3f",
   "metadata": {},
   "outputs": [],
   "source": []
  }
 ],
 "metadata": {
  "kernelspec": {
   "display_name": "hack_env",
   "language": "python",
   "name": "python3"
  },
  "language_info": {
   "codemirror_mode": {
    "name": "ipython",
    "version": 3
   },
   "file_extension": ".py",
   "mimetype": "text/x-python",
   "name": "python",
   "nbconvert_exporter": "python",
   "pygments_lexer": "ipython3",
   "version": "3.11.13"
  }
 },
 "nbformat": 4,
 "nbformat_minor": 5
}
