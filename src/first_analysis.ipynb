{
 "cells": [
  {
   "cell_type": "markdown",
   "id": "9677c985",
   "metadata": {},
   "source": [
    "#### NOTES\n",
    "\n",
    "## Exploratory analysis\n",
    "\n",
    "# Barplot of runs and untargeted runs per subtype.\n",
    "Subtypes on the y axis, runs on the x axis.\n",
    "Show per90min.\n",
    "\n",
    "# Radar plot of teams where each metric is a subtype. (only untargeted)\n",
    "Subtypes on the suroundings.\n",
    "Keep radar values as percentiles (for visual impact). if at the 80th percentile, it means this team performs more of that type of run than 80% of the other teams in your dataset.\n",
    "Add the absolute number (per 90 min) below each label so your audience can see the real magnitude.\n",
    "\n",
    "# I also can do it for players. If I do it for the players, do the metrics compared on the players of the same position.\n",
    "\n",
    "# Percentage plot subtypes per phase (only untargeted)\n",
    "Subtypes y axis, phases x axis and show in percentage and also in size of the number or the circle surrounding the number the percentage. \n",
    "Not per90min. use total runs.\n",
    "\n",
    "# Percentage of untargeted runs that lead to a goal/shot/cross/ball in the penalty area/the ball progresses a lot without losing it within the next 5-10 seconds\n",
    "\n",
    "# Video frame of an untargeted off ball run that made a space that someone occupied and in the end it lead to a goal.\n",
    "This is the introduction video. To show the impact that that untargeted run had on the shot/goal."
   ]
  },
  {
   "cell_type": "code",
   "execution_count": null,
   "id": "089b588e",
   "metadata": {},
   "outputs": [],
   "source": []
  }
 ],
 "metadata": {
  "language_info": {
   "name": "python"
  }
 },
 "nbformat": 4,
 "nbformat_minor": 5
}
